{
  "nbformat": 4,
  "nbformat_minor": 0,
  "metadata": {
    "colab": {
      "name": "hydraTweet.ipynb",
      "provenance": [],
      "collapsed_sections": [],
      "authorship_tag": "ABX9TyM+bzA9T6PN/rPj7F0SJo12",
      "include_colab_link": true
    },
    "kernelspec": {
      "name": "python3",
      "display_name": "Python 3"
    }
  },
  "cells": [
    {
      "cell_type": "markdown",
      "metadata": {
        "id": "view-in-github",
        "colab_type": "text"
      },
      "source": [
        "<a href=\"https://colab.research.google.com/github/marcobiella/dynamicDAG/blob/master/hydraTweet.ipynb\" target=\"_parent\"><img src=\"https://colab.research.google.com/assets/colab-badge.svg\" alt=\"Open In Colab\"/></a>"
      ]
    },
    {
      "cell_type": "markdown",
      "metadata": {
        "id": "vtO-RYlOQRw5"
      },
      "source": [
        "every command starting with \"!\" is executed in the command line (i.e., pip install ...)"
      ]
    },
    {
      "cell_type": "code",
      "metadata": {
        "id": "_iNsCNacP8EU",
        "outputId": "89e257b8-ab8a-424b-9af3-48f029647fb0",
        "colab": {
          "base_uri": "https://localhost:8080/",
          "height": 476
        }
      },
      "source": [
        "!pip install twarc"
      ],
      "execution_count": 1,
      "outputs": [
        {
          "output_type": "stream",
          "text": [
            "Collecting twarc\n",
            "  Downloading https://files.pythonhosted.org/packages/48/0f/b0491173d98d7c0093d3ad912b281f6fefccfcd59b268b2e67581ca08434/twarc-1.10.1.tar.gz\n",
            "Requirement already satisfied: pytest in /usr/local/lib/python3.6/dist-packages (from twarc) (3.6.4)\n",
            "Requirement already satisfied: python-dateutil in /usr/local/lib/python3.6/dist-packages (from twarc) (2.8.1)\n",
            "Requirement already satisfied: requests_oauthlib in /usr/local/lib/python3.6/dist-packages (from twarc) (1.3.0)\n",
            "Requirement already satisfied: attrs>=17.4.0 in /usr/local/lib/python3.6/dist-packages (from pytest->twarc) (20.2.0)\n",
            "Requirement already satisfied: setuptools in /usr/local/lib/python3.6/dist-packages (from pytest->twarc) (50.3.0)\n",
            "Requirement already satisfied: more-itertools>=4.0.0 in /usr/local/lib/python3.6/dist-packages (from pytest->twarc) (8.5.0)\n",
            "Requirement already satisfied: py>=1.5.0 in /usr/local/lib/python3.6/dist-packages (from pytest->twarc) (1.9.0)\n",
            "Requirement already satisfied: six>=1.10.0 in /usr/local/lib/python3.6/dist-packages (from pytest->twarc) (1.15.0)\n",
            "Requirement already satisfied: atomicwrites>=1.0 in /usr/local/lib/python3.6/dist-packages (from pytest->twarc) (1.4.0)\n",
            "Requirement already satisfied: pluggy<0.8,>=0.5 in /usr/local/lib/python3.6/dist-packages (from pytest->twarc) (0.7.1)\n",
            "Requirement already satisfied: oauthlib>=3.0.0 in /usr/local/lib/python3.6/dist-packages (from requests_oauthlib->twarc) (3.1.0)\n",
            "Requirement already satisfied: requests>=2.0.0 in /usr/local/lib/python3.6/dist-packages (from requests_oauthlib->twarc) (2.23.0)\n",
            "Requirement already satisfied: certifi>=2017.4.17 in /usr/local/lib/python3.6/dist-packages (from requests>=2.0.0->requests_oauthlib->twarc) (2020.6.20)\n",
            "Requirement already satisfied: idna<3,>=2.5 in /usr/local/lib/python3.6/dist-packages (from requests>=2.0.0->requests_oauthlib->twarc) (2.10)\n",
            "Requirement already satisfied: urllib3!=1.25.0,!=1.25.1,<1.26,>=1.21.1 in /usr/local/lib/python3.6/dist-packages (from requests>=2.0.0->requests_oauthlib->twarc) (1.24.3)\n",
            "Requirement already satisfied: chardet<4,>=3.0.2 in /usr/local/lib/python3.6/dist-packages (from requests>=2.0.0->requests_oauthlib->twarc) (3.0.4)\n",
            "Building wheels for collected packages: twarc\n",
            "  Building wheel for twarc (setup.py) ... \u001b[?25l\u001b[?25hdone\n",
            "  Created wheel for twarc: filename=twarc-1.10.1-cp36-none-any.whl size=24459 sha256=b69e2dbc47c8256115d3497a2afd33a3978f35a81c7ba6613a8fa82c89ad5fa4\n",
            "  Stored in directory: /root/.cache/pip/wheels/9c/fa/b2/6f52a32883349c330de282a6de50116d1dcea32c175ebb7257\n",
            "Successfully built twarc\n",
            "Installing collected packages: twarc\n",
            "Successfully installed twarc-1.10.1\n"
          ],
          "name": "stdout"
        }
      ]
    },
    {
      "cell_type": "markdown",
      "metadata": {
        "id": "PFa9FtHRbsdS"
      },
      "source": [
        "configure twarc using twitter key and token  \n",
        "use mode: 2) manually enter your access token and secret"
      ]
    },
    {
      "cell_type": "code",
      "metadata": {
        "id": "47l6zY7-nT0C"
      },
      "source": [
        "!twarc configure"
      ],
      "execution_count": null,
      "outputs": []
    },
    {
      "cell_type": "markdown",
      "metadata": {
        "id": "zILls07lQs_k"
      },
      "source": [
        "download file from github"
      ]
    },
    {
      "cell_type": "code",
      "metadata": {
        "id": "OzkfkDyzQuEv",
        "outputId": "3d902728-d758-49eb-af0f-6acf089d007a",
        "colab": {
          "base_uri": "https://localhost:8080/",
          "height": 127
        }
      },
      "source": [
        "!curl -LJO https://github.com/echen102/COVID-19-TweetIDs/blob/master/2020-07/coronavirus-tweet-id-2020-07-01-00.txt\n",
        "!curl -LJO https://github.com/echen102/COVID-19-TweetIDs/blob/master/2020-07/coronavirus-tweet-id-2020-07-01-01.txt"
      ],
      "execution_count": 3,
      "outputs": [
        {
          "output_type": "stream",
          "text": [
            "  % Total    % Received % Xferd  Average Speed   Time    Time     Time  Current\n",
            "                                 Dload  Upload   Total   Spent    Left  Speed\n",
            "100 78609    0 78609    0     0   168k      0 --:--:-- --:--:-- --:--:--  168k\n",
            "  % Total    % Received % Xferd  Average Speed   Time    Time     Time  Current\n",
            "                                 Dload  Upload   Total   Spent    Left  Speed\n",
            "100 78617    0 78617    0     0   233k      0 --:--:-- --:--:-- --:--:--  232k\n"
          ],
          "name": "stdout"
        }
      ]
    },
    {
      "cell_type": "markdown",
      "metadata": {
        "id": "XNqvGNGHSbtr"
      },
      "source": [
        "\"ls\" simply list files, you should find the \"tweetIds.txt\" file just downloaded"
      ]
    },
    {
      "cell_type": "code",
      "metadata": {
        "id": "JDMDC5wjSAY5",
        "outputId": "a856424b-1b5f-46b0-c8b2-ba52b012cb8d",
        "colab": {
          "base_uri": "https://localhost:8080/",
          "height": 54
        }
      },
      "source": [
        "!ls"
      ],
      "execution_count": 4,
      "outputs": [
        {
          "output_type": "stream",
          "text": [
            "coronavirus-tweet-id-2020-07-01-00.txt\tsample_data\n",
            "coronavirus-tweet-id-2020-07-01-01.txt\ttwarc.log\n"
          ],
          "name": "stdout"
        }
      ]
    },
    {
      "cell_type": "markdown",
      "metadata": {
        "id": "rGT8dT3qSlDf"
      },
      "source": [
        "now, re-hydrate the file from command line (iteratively)"
      ]
    },
    {
      "cell_type": "code",
      "metadata": {
        "id": "pXtWIFcASoAj"
      },
      "source": [
        "!for filename in ./coronavirus-tweet-id*.txt; do twarc hydrate \"${filename}\" > \"${filename/.txt/.json}\"; done"
      ],
      "execution_count": 5,
      "outputs": []
    },
    {
      "cell_type": "markdown",
      "metadata": {
        "id": "qyE_2BB1nAQe"
      },
      "source": [
        "see results (json files created)"
      ]
    },
    {
      "cell_type": "code",
      "metadata": {
        "id": "D4_qHmTnnEJ4",
        "outputId": "738b5f86-b1fc-42b8-c373-bf878e0048ae",
        "colab": {
          "base_uri": "https://localhost:8080/",
          "height": 72
        }
      },
      "source": [
        "!ls"
      ],
      "execution_count": 6,
      "outputs": [
        {
          "output_type": "stream",
          "text": [
            "coronavirus-tweet-id-2020-07-01-00.json  coronavirus-tweet-id-2020-07-01-01.txt\n",
            "coronavirus-tweet-id-2020-07-01-00.txt\t sample_data\n",
            "coronavirus-tweet-id-2020-07-01-01.json  twarc.log\n"
          ],
          "name": "stdout"
        }
      ]
    }
  ]
}