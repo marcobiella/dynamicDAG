{
  "nbformat": 4,
  "nbformat_minor": 0,
  "metadata": {
    "colab": {
      "name": "hydraTweet.ipynb",
      "provenance": [],
      "collapsed_sections": [],
      "authorship_tag": "ABX9TyPxxa0yBWCcm/QhTccB7G0J",
      "include_colab_link": true
    },
    "kernelspec": {
      "name": "python3",
      "display_name": "Python 3"
    }
  },
  "cells": [
    {
      "cell_type": "markdown",
      "metadata": {
        "id": "view-in-github",
        "colab_type": "text"
      },
      "source": [
        "<a href=\"https://colab.research.google.com/github/marcobiella/dynamicDAG/blob/master/hydraTweet.ipynb\" target=\"_parent\"><img src=\"https://colab.research.google.com/assets/colab-badge.svg\" alt=\"Open In Colab\"/></a>"
      ]
    },
    {
      "cell_type": "markdown",
      "metadata": {
        "id": "vtO-RYlOQRw5",
        "colab_type": "text"
      },
      "source": [
        "every command starting with \"!\" is executed in the command line (i.e., pip install ...)"
      ]
    },
    {
      "cell_type": "code",
      "metadata": {
        "id": "_iNsCNacP8EU",
        "colab_type": "code",
        "colab": {
          "base_uri": "https://localhost:8080/",
          "height": 496
        },
        "outputId": "3449de8e-7e63-4eba-f22a-30cd4f489790"
      },
      "source": [
        "!pip install twarc"
      ],
      "execution_count": 1,
      "outputs": [
        {
          "output_type": "stream",
          "text": [
            "Collecting twarc\n",
            "  Downloading https://files.pythonhosted.org/packages/48/0f/b0491173d98d7c0093d3ad912b281f6fefccfcd59b268b2e67581ca08434/twarc-1.10.1.tar.gz\n",
            "Requirement already satisfied: pytest in /usr/local/lib/python3.6/dist-packages (from twarc) (3.6.4)\n",
            "Requirement already satisfied: python-dateutil in /usr/local/lib/python3.6/dist-packages (from twarc) (2.8.1)\n",
            "Requirement already satisfied: requests_oauthlib in /usr/local/lib/python3.6/dist-packages (from twarc) (1.3.0)\n",
            "Requirement already satisfied: more-itertools>=4.0.0 in /usr/local/lib/python3.6/dist-packages (from pytest->twarc) (8.4.0)\n",
            "Requirement already satisfied: atomicwrites>=1.0 in /usr/local/lib/python3.6/dist-packages (from pytest->twarc) (1.4.0)\n",
            "Requirement already satisfied: attrs>=17.4.0 in /usr/local/lib/python3.6/dist-packages (from pytest->twarc) (20.1.0)\n",
            "Requirement already satisfied: setuptools in /usr/local/lib/python3.6/dist-packages (from pytest->twarc) (49.6.0)\n",
            "Requirement already satisfied: six>=1.10.0 in /usr/local/lib/python3.6/dist-packages (from pytest->twarc) (1.15.0)\n",
            "Requirement already satisfied: pluggy<0.8,>=0.5 in /usr/local/lib/python3.6/dist-packages (from pytest->twarc) (0.7.1)\n",
            "Requirement already satisfied: py>=1.5.0 in /usr/local/lib/python3.6/dist-packages (from pytest->twarc) (1.9.0)\n",
            "Requirement already satisfied: requests>=2.0.0 in /usr/local/lib/python3.6/dist-packages (from requests_oauthlib->twarc) (2.23.0)\n",
            "Requirement already satisfied: oauthlib>=3.0.0 in /usr/local/lib/python3.6/dist-packages (from requests_oauthlib->twarc) (3.1.0)\n",
            "Requirement already satisfied: certifi>=2017.4.17 in /usr/local/lib/python3.6/dist-packages (from requests>=2.0.0->requests_oauthlib->twarc) (2020.6.20)\n",
            "Requirement already satisfied: urllib3!=1.25.0,!=1.25.1,<1.26,>=1.21.1 in /usr/local/lib/python3.6/dist-packages (from requests>=2.0.0->requests_oauthlib->twarc) (1.24.3)\n",
            "Requirement already satisfied: idna<3,>=2.5 in /usr/local/lib/python3.6/dist-packages (from requests>=2.0.0->requests_oauthlib->twarc) (2.10)\n",
            "Requirement already satisfied: chardet<4,>=3.0.2 in /usr/local/lib/python3.6/dist-packages (from requests>=2.0.0->requests_oauthlib->twarc) (3.0.4)\n",
            "Building wheels for collected packages: twarc\n",
            "  Building wheel for twarc (setup.py) ... \u001b[?25l\u001b[?25hdone\n",
            "  Created wheel for twarc: filename=twarc-1.10.1-cp36-none-any.whl size=24459 sha256=244534383952ddd0b902a4c742b4f1bb1f01bea4f8c4d6fec7c1ac46cff0d49c\n",
            "  Stored in directory: /root/.cache/pip/wheels/9c/fa/b2/6f52a32883349c330de282a6de50116d1dcea32c175ebb7257\n",
            "Successfully built twarc\n",
            "Installing collected packages: twarc\n",
            "Successfully installed twarc-1.10.1\n"
          ],
          "name": "stdout"
        }
      ]
    },
    {
      "cell_type": "markdown",
      "metadata": {
        "id": "PFa9FtHRbsdS",
        "colab_type": "text"
      },
      "source": [
        "configure twarc using twitter key and token"
      ]
    },
    {
      "cell_type": "code",
      "metadata": {
        "id": "6NdlDBlkbwA4",
        "colab_type": "code",
        "colab": {}
      },
      "source": [
        "!twarc configure"
      ],
      "execution_count": null,
      "outputs": []
    },
    {
      "cell_type": "markdown",
      "metadata": {
        "id": "zILls07lQs_k",
        "colab_type": "text"
      },
      "source": [
        "download file from github"
      ]
    },
    {
      "cell_type": "code",
      "metadata": {
        "id": "OzkfkDyzQuEv",
        "colab_type": "code",
        "colab": {
          "base_uri": "https://localhost:8080/",
          "height": 72
        },
        "outputId": "af771c07-1b0b-47fa-d469-7daf98b6cb57"
      },
      "source": [
        "!curl -o tweetIds.txt https://github.com/echen102/COVID-19-TweetIDs/blob/master/2020-07/coronavirus-tweet-id-2020-07-01-00.txt"
      ],
      "execution_count": 8,
      "outputs": [
        {
          "output_type": "stream",
          "text": [
            "  % Total    % Received % Xferd  Average Speed   Time    Time     Time  Current\n",
            "                                 Dload  Upload   Total   Spent    Left  Speed\n",
            "100 82546    0 82546    0     0  74165      0 --:--:--  0:00:01 --:--:-- 74165\n"
          ],
          "name": "stdout"
        }
      ]
    },
    {
      "cell_type": "markdown",
      "metadata": {
        "id": "XNqvGNGHSbtr",
        "colab_type": "text"
      },
      "source": [
        "\"ls\" simply list files, you should find the \"tweetIds.txt\" file just downloaded"
      ]
    },
    {
      "cell_type": "code",
      "metadata": {
        "id": "JDMDC5wjSAY5",
        "colab_type": "code",
        "colab": {
          "base_uri": "https://localhost:8080/",
          "height": 35
        },
        "outputId": "480e0dd3-adfe-4369-dd2a-0531c2c28234"
      },
      "source": [
        "!ls"
      ],
      "execution_count": 9,
      "outputs": [
        {
          "output_type": "stream",
          "text": [
            "filename  sample_data  tweetIds.txt  tweetIds.txt.txt\n"
          ],
          "name": "stdout"
        }
      ]
    },
    {
      "cell_type": "markdown",
      "metadata": {
        "id": "rGT8dT3qSlDf",
        "colab_type": "text"
      },
      "source": [
        "now, re-hydrate the file from command line"
      ]
    },
    {
      "cell_type": "code",
      "metadata": {
        "id": "pXtWIFcASoAj",
        "colab_type": "code",
        "colab": {}
      },
      "source": [
        "!twarc hydrate tweetIds.txt > hydratedTweets.jsonl"
      ],
      "execution_count": 12,
      "outputs": []
    }
  ]
}