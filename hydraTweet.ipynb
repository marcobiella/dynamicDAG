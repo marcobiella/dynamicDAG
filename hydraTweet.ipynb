{
  "nbformat": 4,
  "nbformat_minor": 0,
  "metadata": {
    "colab": {
      "name": "hydraTweet.ipynb",
      "provenance": [],
      "collapsed_sections": [],
      "authorship_tag": "ABX9TyMjLiF15PLBBJgFrN79RaYL",
      "include_colab_link": true
    },
    "kernelspec": {
      "name": "python3",
      "display_name": "Python 3"
    }
  },
  "cells": [
    {
      "cell_type": "markdown",
      "metadata": {
        "id": "view-in-github",
        "colab_type": "text"
      },
      "source": [
        "<a href=\"https://colab.research.google.com/github/marcobiella/dynamicDAG/blob/master/hydraTweet.ipynb\" target=\"_parent\"><img src=\"https://colab.research.google.com/assets/colab-badge.svg\" alt=\"Open In Colab\"/></a>"
      ]
    },
    {
      "cell_type": "markdown",
      "metadata": {
        "id": "vtO-RYlOQRw5"
      },
      "source": [
        "every command starting with \"!\" is executed in the command line (i.e., pip install ...)"
      ]
    },
    {
      "cell_type": "code",
      "metadata": {
        "id": "_iNsCNacP8EU",
        "outputId": "d21637d8-920c-499a-f443-5fbe5e7f246d",
        "colab": {
          "base_uri": "https://localhost:8080/",
          "height": 476
        }
      },
      "source": [
        "!pip install twarc"
      ],
      "execution_count": null,
      "outputs": [
        {
          "output_type": "stream",
          "text": [
            "Collecting twarc\n",
            "  Downloading https://files.pythonhosted.org/packages/48/0f/b0491173d98d7c0093d3ad912b281f6fefccfcd59b268b2e67581ca08434/twarc-1.10.1.tar.gz\n",
            "Requirement already satisfied: pytest in /usr/local/lib/python3.6/dist-packages (from twarc) (3.6.4)\n",
            "Requirement already satisfied: python-dateutil in /usr/local/lib/python3.6/dist-packages (from twarc) (2.8.1)\n",
            "Requirement already satisfied: requests_oauthlib in /usr/local/lib/python3.6/dist-packages (from twarc) (1.3.0)\n",
            "Requirement already satisfied: py>=1.5.0 in /usr/local/lib/python3.6/dist-packages (from pytest->twarc) (1.9.0)\n",
            "Requirement already satisfied: attrs>=17.4.0 in /usr/local/lib/python3.6/dist-packages (from pytest->twarc) (20.2.0)\n",
            "Requirement already satisfied: pluggy<0.8,>=0.5 in /usr/local/lib/python3.6/dist-packages (from pytest->twarc) (0.7.1)\n",
            "Requirement already satisfied: more-itertools>=4.0.0 in /usr/local/lib/python3.6/dist-packages (from pytest->twarc) (8.5.0)\n",
            "Requirement already satisfied: atomicwrites>=1.0 in /usr/local/lib/python3.6/dist-packages (from pytest->twarc) (1.4.0)\n",
            "Requirement already satisfied: six>=1.10.0 in /usr/local/lib/python3.6/dist-packages (from pytest->twarc) (1.15.0)\n",
            "Requirement already satisfied: setuptools in /usr/local/lib/python3.6/dist-packages (from pytest->twarc) (50.3.0)\n",
            "Requirement already satisfied: requests>=2.0.0 in /usr/local/lib/python3.6/dist-packages (from requests_oauthlib->twarc) (2.23.0)\n",
            "Requirement already satisfied: oauthlib>=3.0.0 in /usr/local/lib/python3.6/dist-packages (from requests_oauthlib->twarc) (3.1.0)\n",
            "Requirement already satisfied: certifi>=2017.4.17 in /usr/local/lib/python3.6/dist-packages (from requests>=2.0.0->requests_oauthlib->twarc) (2020.6.20)\n",
            "Requirement already satisfied: idna<3,>=2.5 in /usr/local/lib/python3.6/dist-packages (from requests>=2.0.0->requests_oauthlib->twarc) (2.10)\n",
            "Requirement already satisfied: urllib3!=1.25.0,!=1.25.1,<1.26,>=1.21.1 in /usr/local/lib/python3.6/dist-packages (from requests>=2.0.0->requests_oauthlib->twarc) (1.24.3)\n",
            "Requirement already satisfied: chardet<4,>=3.0.2 in /usr/local/lib/python3.6/dist-packages (from requests>=2.0.0->requests_oauthlib->twarc) (3.0.4)\n",
            "Building wheels for collected packages: twarc\n",
            "  Building wheel for twarc (setup.py) ... \u001b[?25l\u001b[?25hdone\n",
            "  Created wheel for twarc: filename=twarc-1.10.1-cp36-none-any.whl size=24459 sha256=7f26f26e025778d32bea6b6216e40a30b649920e8cf1ac48b27245db4efe0b3b\n",
            "  Stored in directory: /root/.cache/pip/wheels/9c/fa/b2/6f52a32883349c330de282a6de50116d1dcea32c175ebb7257\n",
            "Successfully built twarc\n",
            "Installing collected packages: twarc\n",
            "Successfully installed twarc-1.10.1\n"
          ],
          "name": "stdout"
        }
      ]
    },
    {
      "cell_type": "markdown",
      "metadata": {
        "id": "PFa9FtHRbsdS"
      },
      "source": [
        "configure twarc using twitter key and token  \n",
        "use mode: 2) manually enter your access token and secret"
      ]
    },
    {
      "cell_type": "code",
      "metadata": {
        "id": "47l6zY7-nT0C",
        "outputId": "38815040-48ed-45b6-efd7-a855d46b77ad",
        "colab": {
          "base_uri": "https://localhost:8080/",
          "height": 421
        }
      },
      "source": [
        "!twarc configure"
      ],
      "execution_count": null,
      "outputs": [
        {
          "output_type": "stream",
          "text": [
            "\n",
            "Twarc needs to know a few things before it can talk to Twitter on your behalf.\n",
            "\n",
            "\n",
            "Please enter your Twitter application credentials from apps.twitter.com:\n",
            "\n",
            "consumer key: jMtdcwgHSasVznFzKk6nvmo3j\n",
            "consumer secret: XHtW4uw88AhIR6sK4A5kNkbrrDb481kS24iGaLa0mWX1YZdeAE\n",
            "\n",
            "How would you like twarc to obtain your user keys?\n",
            "\n",
            "1) generate access keys by visiting Twitter\n",
            "2) manually enter your access token and secret\n",
            "\n",
            "Please enter your choice [1/2] 2\n",
            "Enter your Access Token: 80584946-XxUdfbCWM1vB0W6Vz82uk8TiOQc0vF6t9myMocpuh\n",
            "Enter your Access Token Secret: QzEXI2eajugHzPRFshbkoGr53dJ09mPxOFpj2tI1bN9el\n",
            "\n",
            "The credentials for default have been saved to your configuration file at /root/.twarc\n",
            "\n",
            "✨ ✨ ✨  Happy twarcing! ✨ ✨ ✨\n",
            "\n"
          ],
          "name": "stdout"
        }
      ]
    },
    {
      "cell_type": "markdown",
      "metadata": {
        "id": "T2Zup3zAbXJH"
      },
      "source": [
        "install svn using apt, and download txt from github"
      ]
    },
    {
      "cell_type": "code",
      "metadata": {
        "id": "_0JYK5gaZnXb"
      },
      "source": [
        "!apt install subversion\n",
        "!svn checkout https://github.com/echen102/COVID-19-TweetIDs/trunk/2020-01\n",
        "!svn checkout https://github.com/echen102/COVID-19-TweetIDs/trunk/2020-02\n",
        "!svn checkout https://github.com/echen102/COVID-19-TweetIDs/trunk/2020-03\n",
        "!svn checkout https://github.com/echen102/COVID-19-TweetIDs/trunk/2020-04\n",
        "!svn checkout https://github.com/echen102/COVID-19-TweetIDs/trunk/2020-05\n",
        "!svn checkout https://github.com/echen102/COVID-19-TweetIDs/trunk/2020-06\n",
        "!svn checkout https://github.com/echen102/COVID-19-TweetIDs/trunk/2020-07\n",
        "!svn checkout https://github.com/echen102/COVID-19-TweetIDs/trunk/2020-08\n",
        "!svn checkout https://github.com/echen102/COVID-19-TweetIDs/trunk/2020-09"
      ],
      "execution_count": null,
      "outputs": []
    },
    {
      "cell_type": "markdown",
      "metadata": {
        "id": "XNqvGNGHSbtr"
      },
      "source": [
        "\"ls\" simply list files, you should find the file/repository just downloaded"
      ]
    },
    {
      "cell_type": "code",
      "metadata": {
        "id": "JDMDC5wjSAY5",
        "outputId": "73b37bf4-cdd3-4370-9a94-f0718ed9a5e7",
        "colab": {
          "base_uri": "https://localhost:8080/",
          "height": 35
        }
      },
      "source": [
        "!ls"
      ],
      "execution_count": null,
      "outputs": [
        {
          "output_type": "stream",
          "text": [
            "2020-01  sample_data  twarc.log\n"
          ],
          "name": "stdout"
        }
      ]
    },
    {
      "cell_type": "markdown",
      "metadata": {
        "id": "rGT8dT3qSlDf"
      },
      "source": [
        "now, re-hydrate the file from command line (iteratively)"
      ]
    },
    {
      "cell_type": "code",
      "metadata": {
        "id": "pXtWIFcASoAj",
        "outputId": "67a378b3-1d36-4738-c3e5-d72b073998ee",
        "colab": {
          "base_uri": "https://localhost:8080/",
          "height": 35
        }
      },
      "source": [
        "!for filename in ./2020-09/coronavirus-tweet-id*.txt; do twarc hydrate \"${filename}\" > \"${filename/.txt/.json}\"; done"
      ],
      "execution_count": null,
      "outputs": [
        {
          "output_type": "stream",
          "text": [
            "^C\n"
          ],
          "name": "stdout"
        }
      ]
    },
    {
      "cell_type": "markdown",
      "metadata": {
        "id": "qyE_2BB1nAQe"
      },
      "source": [
        "see results (json files created)"
      ]
    },
    {
      "cell_type": "code",
      "metadata": {
        "id": "D4_qHmTnnEJ4",
        "outputId": "4b093429-2792-4c25-abd3-fdea50c32935",
        "colab": {
          "base_uri": "https://localhost:8080/",
          "height": 35
        }
      },
      "source": [
        "!ls"
      ],
      "execution_count": null,
      "outputs": [
        {
          "output_type": "stream",
          "text": [
            "2020-01  2020-09  sample_data  twarc.log\n"
          ],
          "name": "stdout"
        }
      ]
    },
    {
      "cell_type": "markdown",
      "metadata": {
        "id": "MmwKCa1cG5ei"
      },
      "source": [
        "create a new directory"
      ]
    },
    {
      "cell_type": "code",
      "metadata": {
        "id": "c-88EMMiG7SG"
      },
      "source": [
        "!mkdir toDownload"
      ],
      "execution_count": null,
      "outputs": []
    },
    {
      "cell_type": "markdown",
      "metadata": {
        "id": "3rK38uKrG-7U"
      },
      "source": [
        "move file2 to new directory"
      ]
    },
    {
      "cell_type": "code",
      "metadata": {
        "id": "DJrNQHDAHBXN"
      },
      "source": [
        "!mv *2020-09/coronavirus-tweet-id-*.json toDownload"
      ],
      "execution_count": null,
      "outputs": []
    },
    {
      "cell_type": "markdown",
      "metadata": {
        "id": "tEilTZSyHTPm"
      },
      "source": [
        "zip folder"
      ]
    },
    {
      "cell_type": "code",
      "metadata": {
        "id": "IhhHkH2sDHSY",
        "outputId": "ad61b794-4574-40cc-b4e9-690a42c7c7a2",
        "colab": {
          "base_uri": "https://localhost:8080/",
          "height": 72
        }
      },
      "source": [
        "!zip -r toDownload.zip toDownload"
      ],
      "execution_count": null,
      "outputs": [
        {
          "output_type": "stream",
          "text": [
            "  adding: toDownload/ (stored 0%)\n",
            "  adding: toDownload/coronavirus-tweet-id-2020-09-22-00.json (deflated 88%)\n",
            "  adding: toDownload/coronavirus-tweet-id-2020-09-22-01.json (deflated 87%)\n"
          ],
          "name": "stdout"
        }
      ]
    },
    {
      "cell_type": "markdown",
      "metadata": {
        "id": "3ay4DzJuJTxr"
      },
      "source": [
        "download zip file"
      ]
    },
    {
      "cell_type": "code",
      "metadata": {
        "id": "LGMmQ8IWJVxF",
        "outputId": "ad660de5-a8b2-478c-aa1d-12964b9f757b",
        "colab": {
          "base_uri": "https://localhost:8080/",
          "height": 17
        }
      },
      "source": [
        "from google.colab import files\n",
        "files.download(\"toDownload.zip\")"
      ],
      "execution_count": null,
      "outputs": [
        {
          "output_type": "display_data",
          "data": {
            "application/javascript": [
              "\n",
              "    async function download(id, filename, size) {\n",
              "      if (!google.colab.kernel.accessAllowed) {\n",
              "        return;\n",
              "      }\n",
              "      const div = document.createElement('div');\n",
              "      const label = document.createElement('label');\n",
              "      label.textContent = `Downloading \"${filename}\": `;\n",
              "      div.appendChild(label);\n",
              "      const progress = document.createElement('progress');\n",
              "      progress.max = size;\n",
              "      div.appendChild(progress);\n",
              "      document.body.appendChild(div);\n",
              "\n",
              "      const buffers = [];\n",
              "      let downloaded = 0;\n",
              "\n",
              "      const channel = await google.colab.kernel.comms.open(id);\n",
              "      // Send a message to notify the kernel that we're ready.\n",
              "      channel.send({})\n",
              "\n",
              "      for await (const message of channel.messages) {\n",
              "        // Send a message to notify the kernel that we're ready.\n",
              "        channel.send({})\n",
              "        if (message.buffers) {\n",
              "          for (const buffer of message.buffers) {\n",
              "            buffers.push(buffer);\n",
              "            downloaded += buffer.byteLength;\n",
              "            progress.value = downloaded;\n",
              "          }\n",
              "        }\n",
              "      }\n",
              "      const blob = new Blob(buffers, {type: 'application/binary'});\n",
              "      const a = document.createElement('a');\n",
              "      a.href = window.URL.createObjectURL(blob);\n",
              "      a.download = filename;\n",
              "      div.appendChild(a);\n",
              "      a.click();\n",
              "      div.remove();\n",
              "    }\n",
              "  "
            ],
            "text/plain": [
              "<IPython.core.display.Javascript object>"
            ]
          },
          "metadata": {
            "tags": []
          }
        },
        {
          "output_type": "display_data",
          "data": {
            "application/javascript": [
              "download(\"download_5356a29a-ed63-4662-a3f9-065b4f2331f1\", \"toDownload.zip\", 32096587)"
            ],
            "text/plain": [
              "<IPython.core.display.Javascript object>"
            ]
          },
          "metadata": {
            "tags": []
          }
        }
      ]
    }
  ]
}